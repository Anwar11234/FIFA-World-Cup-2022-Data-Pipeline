{
 "cells": [
  {
   "cell_type": "code",
   "execution_count": 1,
   "id": "6b66b9f8",
   "metadata": {},
   "outputs": [],
   "source": [
    "import pandas as pd\n",
    "from unidecode import unidecode"
   ]
  },
  {
   "cell_type": "code",
   "execution_count": null,
   "id": "d4dc8b51",
   "metadata": {},
   "outputs": [],
   "source": [
    "player_match_df = pd.read_csv('../data/player_match.csv')"
   ]
  },
  {
   "cell_type": "code",
   "execution_count": 3,
   "id": "56983944",
   "metadata": {},
   "outputs": [],
   "source": [
    "player_match_df['team'] = player_match_df['team'].str.lower()"
   ]
  },
  {
   "cell_type": "code",
   "execution_count": 4,
   "id": "0af0a44d",
   "metadata": {},
   "outputs": [],
   "source": [
    "player_match_df['first_team_name'] = player_match_df['first_team_name'].str.lower().str.strip()"
   ]
  },
  {
   "cell_type": "code",
   "execution_count": 5,
   "id": "208c31fc",
   "metadata": {},
   "outputs": [],
   "source": [
    "player_match_df['second_team_name'] = player_match_df['second_team_name'].str.lower().str.strip()"
   ]
  },
  {
   "cell_type": "code",
   "execution_count": 6,
   "id": "6589fdb8",
   "metadata": {},
   "outputs": [],
   "source": [
    "player_match_df.loc[player_match_df['team'] == 'ir iran' , 'team'] = 'iran'\n",
    "player_match_df.loc[player_match_df['first_team_name'] == 'ir iran' , 'first_team_name'] = 'iran'\n",
    "player_match_df.loc[player_match_df['second_team_name'] == 'ir iran' , 'second_team_name'] = 'iran'"
   ]
  },
  {
   "cell_type": "code",
   "execution_count": 7,
   "id": "d79d5593",
   "metadata": {},
   "outputs": [],
   "source": [
    "player_match_df['player'] = player_match_df['player'].apply(unidecode).str.strip().str.lower()"
   ]
  },
  {
   "cell_type": "code",
   "execution_count": null,
   "id": "d8b98bec",
   "metadata": {},
   "outputs": [],
   "source": [
    "player_match_df.to_csv('../data/player_match_cleaned.csv', index = False)"
   ]
  }
 ],
 "metadata": {
  "kernelspec": {
   "display_name": "Python 3 (ipykernel)",
   "language": "python",
   "name": "python3"
  },
  "language_info": {
   "codemirror_mode": {
    "name": "ipython",
    "version": 3
   },
   "file_extension": ".py",
   "mimetype": "text/x-python",
   "name": "python",
   "nbconvert_exporter": "python",
   "pygments_lexer": "ipython3",
   "version": "3.9.5"
  }
 },
 "nbformat": 4,
 "nbformat_minor": 5
}
